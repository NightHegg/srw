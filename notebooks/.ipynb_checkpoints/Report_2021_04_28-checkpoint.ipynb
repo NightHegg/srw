{
 "cells": [
  {
   "cell_type": "markdown",
   "metadata": {},
   "source": [
    "В качестве области возьмем четверть продольного сечения толстостенной трубы с параметрами: $r_1$ = 1, $r_2$ = 2. С внутренней стороны прикладываем давление 5 МПа, с внешней стороны - 10 МПа. Для решения нашей задачи с помощью методов декомпозиции области разобьём основную область на M подобластей. В качестве подобласти возьмем сектор трубы, где угол сектора вычисляется по формуле: $\\alpha = \\dfrac{\\pi}{2 * M}$. Образец разбиения области на четыре подобласти (относительное перекрытие 0.35) представлен на следующих рисунках:\n",
    "<div>\n",
    "    <img src=\"img/part_area_01.png\" width=\"300\"/>\n",
    "    <img src=\"img/part_area_02.png\" width=\"300\"/>\n",
    "    <img src=\"img/part_area_03.png\" width=\"300\"/>\n",
    "    <img src=\"img/part_area_04.png\" width=\"300\"/>\n",
    "</div>"
   ]
  },
  {
   "cell_type": "markdown",
   "metadata": {},
   "source": [
    "Для двухуровневого аддитивного метода были рассмотрены два типа грубой сетки:\n",
    "- простая грубая сетка для четверти толстостенной трубы;\n",
    "<div>\n",
    "    <img src=\"img/coarse_area.png\" width=\"300\"/>\n",
    "</div>\n",
    "- грубая сетка для упрощенной четверти толстостенной трубы;\n",
    "<div>\n",
    "    <img src=\"img/coarse_area_simplified.png\" width=\"300\"/>\n",
    "</div>"
   ]
  },
  {
   "cell_type": "markdown",
   "metadata": {},
   "source": [
    "Были рассмотрены три сетки: \n",
    "- h = 0.05 (1109 точек);\n",
    "- h = 0.025 (4390 точек);\n",
    "- h = 0.0125 (17470 точек);\n",
    "Критерий сходимости $\\varepsilon = 10^{-5}$."
   ]
  },
  {
   "cell_type": "code",
   "execution_count": 92,
   "metadata": {},
   "outputs": [],
   "source": [
    "import pandas as pd"
   ]
  },
  {
   "cell_type": "markdown",
   "metadata": {},
   "source": [
    "# Базовая задача без МДО:"
   ]
  },
  {
   "cell_type": "code",
   "execution_count": 93,
   "metadata": {},
   "outputs": [],
   "source": [
    "method = 'basic_method'\n",
    "task = 'pressure_only'\n",
    "\n",
    "df_errors = pd.read_csv(f'..//results/thick_walled_cylinder/{task}/errors/{method}.csv', dtype = object)\n",
    "df_errors_rel = pd.read_csv(f'..//results/thick_walled_cylinder/{task}/errors_rel/{method}.csv', dtype = object)"
   ]
  },
  {
   "cell_type": "markdown",
   "metadata": {},
   "source": [
    "Таблица ошибок численного решения:"
   ]
  },
  {
   "cell_type": "code",
   "execution_count": 94,
   "metadata": {},
   "outputs": [
    {
     "data": {
      "text/html": [
       "<style  type=\"text/css\" >\n",
       "</style><table id=\"T_29317a67_a8f8_11eb_84e0_f02f7488b7cf\" ><thead>    <tr>        <th class=\"col_heading level0 col0\" >Шаг сетки h</th>        <th class=\"col_heading level0 col1\" >u_r</th>        <th class=\"col_heading level0 col2\" >sigma_r</th>        <th class=\"col_heading level0 col3\" >sigma_phi</th>    </tr></thead><tbody>\n",
       "                <tr>\n",
       "                                <td id=\"T_29317a67_a8f8_11eb_84e0_f02f7488b7cfrow0_col0\" class=\"data row0 col0\" >0.05</td>\n",
       "                        <td id=\"T_29317a67_a8f8_11eb_84e0_f02f7488b7cfrow0_col1\" class=\"data row0 col1\" >1.46e-04</td>\n",
       "                        <td id=\"T_29317a67_a8f8_11eb_84e0_f02f7488b7cfrow0_col2\" class=\"data row0 col2\" >2.87e-02</td>\n",
       "                        <td id=\"T_29317a67_a8f8_11eb_84e0_f02f7488b7cfrow0_col3\" class=\"data row0 col3\" >1.11e-02</td>\n",
       "            </tr>\n",
       "            <tr>\n",
       "                                <td id=\"T_29317a67_a8f8_11eb_84e0_f02f7488b7cfrow1_col0\" class=\"data row1 col0\" >0.025</td>\n",
       "                        <td id=\"T_29317a67_a8f8_11eb_84e0_f02f7488b7cfrow1_col1\" class=\"data row1 col1\" >3.49e-05</td>\n",
       "                        <td id=\"T_29317a67_a8f8_11eb_84e0_f02f7488b7cfrow1_col2\" class=\"data row1 col2\" >1.39e-02</td>\n",
       "                        <td id=\"T_29317a67_a8f8_11eb_84e0_f02f7488b7cfrow1_col3\" class=\"data row1 col3\" >5.48e-03</td>\n",
       "            </tr>\n",
       "            <tr>\n",
       "                                <td id=\"T_29317a67_a8f8_11eb_84e0_f02f7488b7cfrow2_col0\" class=\"data row2 col0\" >0.0125</td>\n",
       "                        <td id=\"T_29317a67_a8f8_11eb_84e0_f02f7488b7cfrow2_col1\" class=\"data row2 col1\" >8.40e-06</td>\n",
       "                        <td id=\"T_29317a67_a8f8_11eb_84e0_f02f7488b7cfrow2_col2\" class=\"data row2 col2\" >6.65e-03</td>\n",
       "                        <td id=\"T_29317a67_a8f8_11eb_84e0_f02f7488b7cfrow2_col3\" class=\"data row2 col3\" >2.67e-03</td>\n",
       "            </tr>\n",
       "    </tbody></table>"
      ],
      "text/plain": [
       "<pandas.io.formats.style.Styler at 0x22512099ca0>"
      ]
     },
     "execution_count": 94,
     "metadata": {},
     "output_type": "execute_result"
    }
   ],
   "source": [
    "df_errors.style.hide_index()"
   ]
  },
  {
   "cell_type": "markdown",
   "metadata": {},
   "source": [
    "Таблица отношений ошибок численных решений:"
   ]
  },
  {
   "cell_type": "code",
   "execution_count": 95,
   "metadata": {},
   "outputs": [
    {
     "data": {
      "text/html": [
       "<style  type=\"text/css\" >\n",
       "</style><table id=\"T_2933e9c2_a8f8_11eb_930e_f02f7488b7cf\" ><thead>    <tr>        <th class=\"col_heading level0 col0\" >Шаг сетки h</th>        <th class=\"col_heading level0 col1\" >u_r</th>        <th class=\"col_heading level0 col2\" >sigma_r</th>        <th class=\"col_heading level0 col3\" >sigma_phi</th>    </tr></thead><tbody>\n",
       "                <tr>\n",
       "                                <td id=\"T_2933e9c2_a8f8_11eb_930e_f02f7488b7cfrow0_col0\" class=\"data row0 col0\" >0.05</td>\n",
       "                        <td id=\"T_2933e9c2_a8f8_11eb_930e_f02f7488b7cfrow0_col1\" class=\"data row0 col1\" >1</td>\n",
       "                        <td id=\"T_2933e9c2_a8f8_11eb_930e_f02f7488b7cfrow0_col2\" class=\"data row0 col2\" >1</td>\n",
       "                        <td id=\"T_2933e9c2_a8f8_11eb_930e_f02f7488b7cfrow0_col3\" class=\"data row0 col3\" >1</td>\n",
       "            </tr>\n",
       "            <tr>\n",
       "                                <td id=\"T_2933e9c2_a8f8_11eb_930e_f02f7488b7cfrow1_col0\" class=\"data row1 col0\" >0.025</td>\n",
       "                        <td id=\"T_2933e9c2_a8f8_11eb_930e_f02f7488b7cfrow1_col1\" class=\"data row1 col1\" >4</td>\n",
       "                        <td id=\"T_2933e9c2_a8f8_11eb_930e_f02f7488b7cfrow1_col2\" class=\"data row1 col2\" >2</td>\n",
       "                        <td id=\"T_2933e9c2_a8f8_11eb_930e_f02f7488b7cfrow1_col3\" class=\"data row1 col3\" >2</td>\n",
       "            </tr>\n",
       "            <tr>\n",
       "                                <td id=\"T_2933e9c2_a8f8_11eb_930e_f02f7488b7cfrow2_col0\" class=\"data row2 col0\" >0.0125</td>\n",
       "                        <td id=\"T_2933e9c2_a8f8_11eb_930e_f02f7488b7cfrow2_col1\" class=\"data row2 col1\" >17</td>\n",
       "                        <td id=\"T_2933e9c2_a8f8_11eb_930e_f02f7488b7cfrow2_col2\" class=\"data row2 col2\" >4</td>\n",
       "                        <td id=\"T_2933e9c2_a8f8_11eb_930e_f02f7488b7cfrow2_col3\" class=\"data row2 col3\" >4</td>\n",
       "            </tr>\n",
       "    </tbody></table>"
      ],
      "text/plain": [
       "<pandas.io.formats.style.Styler at 0x22511ea3910>"
      ]
     },
     "execution_count": 95,
     "metadata": {},
     "output_type": "execute_result"
    }
   ],
   "source": [
    "df_errors_rel.style.hide_index()"
   ]
  },
  {
   "cell_type": "markdown",
   "metadata": {},
   "source": [
    "# Мультипликативный метод Шварца:"
   ]
  },
  {
   "cell_type": "code",
   "execution_count": 96,
   "metadata": {},
   "outputs": [],
   "source": [
    "method = 'schwarz_multiplicative'\n",
    "task = 'pressure_only'\n",
    "\n",
    "df_errors = pd.read_csv(f'..//results/thick_walled_cylinder/{task}/errors/{method}.csv', dtype = object)\n",
    "df_errors_rel = pd.read_csv(f'..//results/thick_walled_cylinder/{task}/errors_rel/{method}.csv', dtype = object)\n",
    "df_iters = pd.read_csv(f'..//results/thick_walled_cylinder/{task}/iterations/{method}.csv', dtype = object)\n",
    "df_error_special = pd.read_csv(f'..//results/thick_walled_cylinder/{task}/errors_special/{method}.csv', dtype = object)"
   ]
  },
  {
   "cell_type": "markdown",
   "metadata": {},
   "source": [
    "Таблица ошибок численного решения:"
   ]
  },
  {
   "cell_type": "code",
   "execution_count": 97,
   "metadata": {},
   "outputs": [
    {
     "data": {
      "text/html": [
       "<style  type=\"text/css\" >\n",
       "</style><table id=\"T_2938c867_a8f8_11eb_87db_f02f7488b7cf\" ><thead>    <tr>        <th class=\"col_heading level0 col0\" >Шаг сетки h</th>        <th class=\"col_heading level0 col1\" >u_r</th>        <th class=\"col_heading level0 col2\" >sigma_r</th>        <th class=\"col_heading level0 col3\" >sigma_phi</th>    </tr></thead><tbody>\n",
       "                <tr>\n",
       "                                <td id=\"T_2938c867_a8f8_11eb_87db_f02f7488b7cfrow0_col0\" class=\"data row0 col0\" >0.05</td>\n",
       "                        <td id=\"T_2938c867_a8f8_11eb_87db_f02f7488b7cfrow0_col1\" class=\"data row0 col1\" >1.47e-04</td>\n",
       "                        <td id=\"T_2938c867_a8f8_11eb_87db_f02f7488b7cfrow0_col2\" class=\"data row0 col2\" >2.87e-02</td>\n",
       "                        <td id=\"T_2938c867_a8f8_11eb_87db_f02f7488b7cfrow0_col3\" class=\"data row0 col3\" >1.11e-02</td>\n",
       "            </tr>\n",
       "            <tr>\n",
       "                                <td id=\"T_2938c867_a8f8_11eb_87db_f02f7488b7cfrow1_col0\" class=\"data row1 col0\" >0.025</td>\n",
       "                        <td id=\"T_2938c867_a8f8_11eb_87db_f02f7488b7cfrow1_col1\" class=\"data row1 col1\" >3.53e-05</td>\n",
       "                        <td id=\"T_2938c867_a8f8_11eb_87db_f02f7488b7cfrow1_col2\" class=\"data row1 col2\" >1.39e-02</td>\n",
       "                        <td id=\"T_2938c867_a8f8_11eb_87db_f02f7488b7cfrow1_col3\" class=\"data row1 col3\" >5.48e-03</td>\n",
       "            </tr>\n",
       "            <tr>\n",
       "                                <td id=\"T_2938c867_a8f8_11eb_87db_f02f7488b7cfrow2_col0\" class=\"data row2 col0\" >0.0125</td>\n",
       "                        <td id=\"T_2938c867_a8f8_11eb_87db_f02f7488b7cfrow2_col1\" class=\"data row2 col1\" >9.56e-06</td>\n",
       "                        <td id=\"T_2938c867_a8f8_11eb_87db_f02f7488b7cfrow2_col2\" class=\"data row2 col2\" >6.65e-03</td>\n",
       "                        <td id=\"T_2938c867_a8f8_11eb_87db_f02f7488b7cfrow2_col3\" class=\"data row2 col3\" >2.67e-03</td>\n",
       "            </tr>\n",
       "    </tbody></table>"
      ],
      "text/plain": [
       "<pandas.io.formats.style.Styler at 0x225120a1f40>"
      ]
     },
     "execution_count": 97,
     "metadata": {},
     "output_type": "execute_result"
    }
   ],
   "source": [
    "df_errors.style.hide_index()"
   ]
  },
  {
   "cell_type": "markdown",
   "metadata": {},
   "source": [
    "Таблица отношений ошибок численных решений:"
   ]
  },
  {
   "cell_type": "code",
   "execution_count": 98,
   "metadata": {},
   "outputs": [
    {
     "data": {
      "text/html": [
       "<style  type=\"text/css\" >\n",
       "</style><table id=\"T_293b1d52_a8f8_11eb_986e_f02f7488b7cf\" ><thead>    <tr>        <th class=\"col_heading level0 col0\" >Шаг сетки h</th>        <th class=\"col_heading level0 col1\" >u_r</th>        <th class=\"col_heading level0 col2\" >sigma_r</th>        <th class=\"col_heading level0 col3\" >sigma_phi</th>    </tr></thead><tbody>\n",
       "                <tr>\n",
       "                                <td id=\"T_293b1d52_a8f8_11eb_986e_f02f7488b7cfrow0_col0\" class=\"data row0 col0\" >0.05</td>\n",
       "                        <td id=\"T_293b1d52_a8f8_11eb_986e_f02f7488b7cfrow0_col1\" class=\"data row0 col1\" >1</td>\n",
       "                        <td id=\"T_293b1d52_a8f8_11eb_986e_f02f7488b7cfrow0_col2\" class=\"data row0 col2\" >1</td>\n",
       "                        <td id=\"T_293b1d52_a8f8_11eb_986e_f02f7488b7cfrow0_col3\" class=\"data row0 col3\" >1</td>\n",
       "            </tr>\n",
       "            <tr>\n",
       "                                <td id=\"T_293b1d52_a8f8_11eb_986e_f02f7488b7cfrow1_col0\" class=\"data row1 col0\" >0.025</td>\n",
       "                        <td id=\"T_293b1d52_a8f8_11eb_986e_f02f7488b7cfrow1_col1\" class=\"data row1 col1\" >4</td>\n",
       "                        <td id=\"T_293b1d52_a8f8_11eb_986e_f02f7488b7cfrow1_col2\" class=\"data row1 col2\" >2</td>\n",
       "                        <td id=\"T_293b1d52_a8f8_11eb_986e_f02f7488b7cfrow1_col3\" class=\"data row1 col3\" >2</td>\n",
       "            </tr>\n",
       "            <tr>\n",
       "                                <td id=\"T_293b1d52_a8f8_11eb_986e_f02f7488b7cfrow2_col0\" class=\"data row2 col0\" >0.0125</td>\n",
       "                        <td id=\"T_293b1d52_a8f8_11eb_986e_f02f7488b7cfrow2_col1\" class=\"data row2 col1\" >15</td>\n",
       "                        <td id=\"T_293b1d52_a8f8_11eb_986e_f02f7488b7cfrow2_col2\" class=\"data row2 col2\" >4</td>\n",
       "                        <td id=\"T_293b1d52_a8f8_11eb_986e_f02f7488b7cfrow2_col3\" class=\"data row2 col3\" >4</td>\n",
       "            </tr>\n",
       "    </tbody></table>"
      ],
      "text/plain": [
       "<pandas.io.formats.style.Styler at 0x225120ae610>"
      ]
     },
     "execution_count": 98,
     "metadata": {},
     "output_type": "execute_result"
    }
   ],
   "source": [
    "df_errors_rel.style.hide_index()"
   ]
  },
  {
   "cell_type": "markdown",
   "metadata": {},
   "source": [
    "Таблица количества итераций в зависимости от количества подобластей и шага сетки (относительное перекрытие 0.35):"
   ]
  },
  {
   "cell_type": "code",
   "execution_count": 99,
   "metadata": {},
   "outputs": [
    {
     "data": {
      "text/html": [
       "<style  type=\"text/css\" >\n",
       "</style><table id=\"T_293d8b70_a8f8_11eb_a493_f02f7488b7cf\" ><thead>    <tr>        <th class=\"col_heading level0 col0\" >Количество подобластей</th>        <th class=\"col_heading level0 col1\" >h=0.05</th>        <th class=\"col_heading level0 col2\" >h=0.025</th>        <th class=\"col_heading level0 col3\" >h=0.0125</th>    </tr></thead><tbody>\n",
       "                <tr>\n",
       "                                <td id=\"T_293d8b70_a8f8_11eb_a493_f02f7488b7cfrow0_col0\" class=\"data row0 col0\" >2 области</td>\n",
       "                        <td id=\"T_293d8b70_a8f8_11eb_a493_f02f7488b7cfrow0_col1\" class=\"data row0 col1\" >39</td>\n",
       "                        <td id=\"T_293d8b70_a8f8_11eb_a493_f02f7488b7cfrow0_col2\" class=\"data row0 col2\" >38</td>\n",
       "                        <td id=\"T_293d8b70_a8f8_11eb_a493_f02f7488b7cfrow0_col3\" class=\"data row0 col3\" >38</td>\n",
       "            </tr>\n",
       "            <tr>\n",
       "                                <td id=\"T_293d8b70_a8f8_11eb_a493_f02f7488b7cfrow1_col0\" class=\"data row1 col0\" >4 области</td>\n",
       "                        <td id=\"T_293d8b70_a8f8_11eb_a493_f02f7488b7cfrow1_col1\" class=\"data row1 col1\" >155</td>\n",
       "                        <td id=\"T_293d8b70_a8f8_11eb_a493_f02f7488b7cfrow1_col2\" class=\"data row1 col2\" >152</td>\n",
       "                        <td id=\"T_293d8b70_a8f8_11eb_a493_f02f7488b7cfrow1_col3\" class=\"data row1 col3\" >149</td>\n",
       "            </tr>\n",
       "            <tr>\n",
       "                                <td id=\"T_293d8b70_a8f8_11eb_a493_f02f7488b7cfrow2_col0\" class=\"data row2 col0\" >8 областей</td>\n",
       "                        <td id=\"T_293d8b70_a8f8_11eb_a493_f02f7488b7cfrow2_col1\" class=\"data row2 col1\" >469</td>\n",
       "                        <td id=\"T_293d8b70_a8f8_11eb_a493_f02f7488b7cfrow2_col2\" class=\"data row2 col2\" >448</td>\n",
       "                        <td id=\"T_293d8b70_a8f8_11eb_a493_f02f7488b7cfrow2_col3\" class=\"data row2 col3\" >450</td>\n",
       "            </tr>\n",
       "    </tbody></table>"
      ],
      "text/plain": [
       "<pandas.io.formats.style.Styler at 0x22511ea34f0>"
      ]
     },
     "execution_count": 99,
     "metadata": {},
     "output_type": "execute_result"
    }
   ],
   "source": [
    "df_iters.style.hide_index()"
   ]
  },
  {
   "cell_type": "markdown",
   "metadata": {},
   "source": [
    "Ошибки численного решения (8 подобластей, шаг 0.025):"
   ]
  },
  {
   "cell_type": "code",
   "execution_count": 100,
   "metadata": {},
   "outputs": [
    {
     "data": {
      "text/html": [
       "<style  type=\"text/css\" >\n",
       "</style><table id=\"T_293facdc_a8f8_11eb_a477_f02f7488b7cf\" ><thead>    <tr>        <th class=\"col_heading level0 col0\" >eps_0</th>        <th class=\"col_heading level0 col1\" >Количество итераций</th>        <th class=\"col_heading level0 col2\" >Ошибка численного решения для sigma_r</th>        <th class=\"col_heading level0 col3\" >Ошибка численного решения для sigma_phi</th>    </tr></thead><tbody>\n",
       "                <tr>\n",
       "                                <td id=\"T_293facdc_a8f8_11eb_a477_f02f7488b7cfrow0_col0\" class=\"data row0 col0\" >1e-02</td>\n",
       "                        <td id=\"T_293facdc_a8f8_11eb_a477_f02f7488b7cfrow0_col1\" class=\"data row0 col1\" >26</td>\n",
       "                        <td id=\"T_293facdc_a8f8_11eb_a477_f02f7488b7cfrow0_col2\" class=\"data row0 col2\" >1.56e-02</td>\n",
       "                        <td id=\"T_293facdc_a8f8_11eb_a477_f02f7488b7cfrow0_col3\" class=\"data row0 col3\" >6.89e-02</td>\n",
       "            </tr>\n",
       "            <tr>\n",
       "                                <td id=\"T_293facdc_a8f8_11eb_a477_f02f7488b7cfrow1_col0\" class=\"data row1 col0\" >1e-03</td>\n",
       "                        <td id=\"T_293facdc_a8f8_11eb_a477_f02f7488b7cfrow1_col1\" class=\"data row1 col1\" >52</td>\n",
       "                        <td id=\"T_293facdc_a8f8_11eb_a477_f02f7488b7cfrow1_col2\" class=\"data row1 col2\" >1.42e-02</td>\n",
       "                        <td id=\"T_293facdc_a8f8_11eb_a477_f02f7488b7cfrow1_col3\" class=\"data row1 col3\" >1.25e-02</td>\n",
       "            </tr>\n",
       "            <tr>\n",
       "                                <td id=\"T_293facdc_a8f8_11eb_a477_f02f7488b7cfrow2_col0\" class=\"data row2 col0\" >1e-04</td>\n",
       "                        <td id=\"T_293facdc_a8f8_11eb_a477_f02f7488b7cfrow2_col1\" class=\"data row2 col1\" >184</td>\n",
       "                        <td id=\"T_293facdc_a8f8_11eb_a477_f02f7488b7cfrow2_col2\" class=\"data row2 col2\" >1.40e-02</td>\n",
       "                        <td id=\"T_293facdc_a8f8_11eb_a477_f02f7488b7cfrow2_col3\" class=\"data row2 col3\" >6.16e-03</td>\n",
       "            </tr>\n",
       "            <tr>\n",
       "                                <td id=\"T_293facdc_a8f8_11eb_a477_f02f7488b7cfrow3_col0\" class=\"data row3 col0\" >1e-05</td>\n",
       "                        <td id=\"T_293facdc_a8f8_11eb_a477_f02f7488b7cfrow3_col1\" class=\"data row3 col1\" >448</td>\n",
       "                        <td id=\"T_293facdc_a8f8_11eb_a477_f02f7488b7cfrow3_col2\" class=\"data row3 col2\" >1.39e-02</td>\n",
       "                        <td id=\"T_293facdc_a8f8_11eb_a477_f02f7488b7cfrow3_col3\" class=\"data row3 col3\" >5.49e-03</td>\n",
       "            </tr>\n",
       "            <tr>\n",
       "                                <td id=\"T_293facdc_a8f8_11eb_a477_f02f7488b7cfrow4_col0\" class=\"data row4 col0\" >1e-06</td>\n",
       "                        <td id=\"T_293facdc_a8f8_11eb_a477_f02f7488b7cfrow4_col1\" class=\"data row4 col1\" >712</td>\n",
       "                        <td id=\"T_293facdc_a8f8_11eb_a477_f02f7488b7cfrow4_col2\" class=\"data row4 col2\" >1.39e-02</td>\n",
       "                        <td id=\"T_293facdc_a8f8_11eb_a477_f02f7488b7cfrow4_col3\" class=\"data row4 col3\" >5.48e-03</td>\n",
       "            </tr>\n",
       "    </tbody></table>"
      ],
      "text/plain": [
       "<pandas.io.formats.style.Styler at 0x225120990d0>"
      ]
     },
     "execution_count": 100,
     "metadata": {},
     "output_type": "execute_result"
    }
   ],
   "source": [
    "df_error_special.style.hide_index()"
   ]
  },
  {
   "cell_type": "markdown",
   "metadata": {},
   "source": [
    "# Аддитивный метод Шварца:"
   ]
  },
  {
   "cell_type": "code",
   "execution_count": 101,
   "metadata": {},
   "outputs": [],
   "source": [
    "method = 'schwarz_additive'\n",
    "task = 'pressure_only'\n",
    "\n",
    "df_errors = pd.read_csv(f'..//results/thick_walled_cylinder/{task}/errors/{method}.csv', dtype = object)\n",
    "df_errors_rel = pd.read_csv(f'..//results/thick_walled_cylinder/{task}/errors_rel/{method}.csv', dtype = object)\n",
    "df_iters = pd.read_csv(f'..//results/thick_walled_cylinder/{task}/iterations/{method}.csv', dtype = object)\n",
    "df_error_special = pd.read_csv(f'..//results/thick_walled_cylinder/{task}/errors_special/{method}.csv', dtype = object)"
   ]
  },
  {
   "cell_type": "markdown",
   "metadata": {},
   "source": [
    "Таблица ошибок численного решения:"
   ]
  },
  {
   "cell_type": "code",
   "execution_count": 102,
   "metadata": {},
   "outputs": [
    {
     "data": {
      "text/html": [
       "<style  type=\"text/css\" >\n",
       "</style><table id=\"T_29448f2e_a8f8_11eb_9f90_f02f7488b7cf\" ><thead>    <tr>        <th class=\"col_heading level0 col0\" >Шаг сетки h</th>        <th class=\"col_heading level0 col1\" >u_r</th>        <th class=\"col_heading level0 col2\" >sigma_r</th>        <th class=\"col_heading level0 col3\" >sigma_phi</th>    </tr></thead><tbody>\n",
       "                <tr>\n",
       "                                <td id=\"T_29448f2e_a8f8_11eb_9f90_f02f7488b7cfrow0_col0\" class=\"data row0 col0\" >0.05</td>\n",
       "                        <td id=\"T_29448f2e_a8f8_11eb_9f90_f02f7488b7cfrow0_col1\" class=\"data row0 col1\" >1.50e-04</td>\n",
       "                        <td id=\"T_29448f2e_a8f8_11eb_9f90_f02f7488b7cfrow0_col2\" class=\"data row0 col2\" >2.87e-02</td>\n",
       "                        <td id=\"T_29448f2e_a8f8_11eb_9f90_f02f7488b7cfrow0_col3\" class=\"data row0 col3\" >1.11e-02</td>\n",
       "            </tr>\n",
       "            <tr>\n",
       "                                <td id=\"T_29448f2e_a8f8_11eb_9f90_f02f7488b7cfrow1_col0\" class=\"data row1 col0\" >0.025</td>\n",
       "                        <td id=\"T_29448f2e_a8f8_11eb_9f90_f02f7488b7cfrow1_col1\" class=\"data row1 col1\" >4.01e-05</td>\n",
       "                        <td id=\"T_29448f2e_a8f8_11eb_9f90_f02f7488b7cfrow1_col2\" class=\"data row1 col2\" >1.39e-02</td>\n",
       "                        <td id=\"T_29448f2e_a8f8_11eb_9f90_f02f7488b7cfrow1_col3\" class=\"data row1 col3\" >5.48e-03</td>\n",
       "            </tr>\n",
       "            <tr>\n",
       "                                <td id=\"T_29448f2e_a8f8_11eb_9f90_f02f7488b7cfrow2_col0\" class=\"data row2 col0\" >0.0125</td>\n",
       "                        <td id=\"T_29448f2e_a8f8_11eb_9f90_f02f7488b7cfrow2_col1\" class=\"data row2 col1\" >2.29e-05</td>\n",
       "                        <td id=\"T_29448f2e_a8f8_11eb_9f90_f02f7488b7cfrow2_col2\" class=\"data row2 col2\" >6.65e-03</td>\n",
       "                        <td id=\"T_29448f2e_a8f8_11eb_9f90_f02f7488b7cfrow2_col3\" class=\"data row2 col3\" >2.67e-03</td>\n",
       "            </tr>\n",
       "    </tbody></table>"
      ],
      "text/plain": [
       "<pandas.io.formats.style.Styler at 0x225120b01c0>"
      ]
     },
     "execution_count": 102,
     "metadata": {},
     "output_type": "execute_result"
    }
   ],
   "source": [
    "df_errors.style.hide_index()"
   ]
  },
  {
   "cell_type": "markdown",
   "metadata": {},
   "source": [
    "Таблица отношений ошибок численных решений:"
   ]
  },
  {
   "cell_type": "code",
   "execution_count": 103,
   "metadata": {},
   "outputs": [
    {
     "data": {
      "text/html": [
       "<style  type=\"text/css\" >\n",
       "</style><table id=\"T_2947012b_a8f8_11eb_9930_f02f7488b7cf\" ><thead>    <tr>        <th class=\"col_heading level0 col0\" >Шаг сетки h</th>        <th class=\"col_heading level0 col1\" >u_r</th>        <th class=\"col_heading level0 col2\" >sigma_r</th>        <th class=\"col_heading level0 col3\" >sigma_phi</th>    </tr></thead><tbody>\n",
       "                <tr>\n",
       "                                <td id=\"T_2947012b_a8f8_11eb_9930_f02f7488b7cfrow0_col0\" class=\"data row0 col0\" >0.05</td>\n",
       "                        <td id=\"T_2947012b_a8f8_11eb_9930_f02f7488b7cfrow0_col1\" class=\"data row0 col1\" >1</td>\n",
       "                        <td id=\"T_2947012b_a8f8_11eb_9930_f02f7488b7cfrow0_col2\" class=\"data row0 col2\" >1</td>\n",
       "                        <td id=\"T_2947012b_a8f8_11eb_9930_f02f7488b7cfrow0_col3\" class=\"data row0 col3\" >1</td>\n",
       "            </tr>\n",
       "            <tr>\n",
       "                                <td id=\"T_2947012b_a8f8_11eb_9930_f02f7488b7cfrow1_col0\" class=\"data row1 col0\" >0.025</td>\n",
       "                        <td id=\"T_2947012b_a8f8_11eb_9930_f02f7488b7cfrow1_col1\" class=\"data row1 col1\" >4</td>\n",
       "                        <td id=\"T_2947012b_a8f8_11eb_9930_f02f7488b7cfrow1_col2\" class=\"data row1 col2\" >2</td>\n",
       "                        <td id=\"T_2947012b_a8f8_11eb_9930_f02f7488b7cfrow1_col3\" class=\"data row1 col3\" >2</td>\n",
       "            </tr>\n",
       "            <tr>\n",
       "                                <td id=\"T_2947012b_a8f8_11eb_9930_f02f7488b7cfrow2_col0\" class=\"data row2 col0\" >0.0125</td>\n",
       "                        <td id=\"T_2947012b_a8f8_11eb_9930_f02f7488b7cfrow2_col1\" class=\"data row2 col1\" >7</td>\n",
       "                        <td id=\"T_2947012b_a8f8_11eb_9930_f02f7488b7cfrow2_col2\" class=\"data row2 col2\" >4</td>\n",
       "                        <td id=\"T_2947012b_a8f8_11eb_9930_f02f7488b7cfrow2_col3\" class=\"data row2 col3\" >4</td>\n",
       "            </tr>\n",
       "    </tbody></table>"
      ],
      "text/plain": [
       "<pandas.io.formats.style.Styler at 0x225120b0e80>"
      ]
     },
     "execution_count": 103,
     "metadata": {},
     "output_type": "execute_result"
    }
   ],
   "source": [
    "df_errors_rel.style.hide_index()"
   ]
  },
  {
   "cell_type": "markdown",
   "metadata": {},
   "source": [
    "Таблица количества итераций в зависимости от количества подобластей и шага сетки (относительное перекрытие 0.35):"
   ]
  },
  {
   "cell_type": "code",
   "execution_count": 104,
   "metadata": {},
   "outputs": [
    {
     "data": {
      "text/html": [
       "<style  type=\"text/css\" >\n",
       "</style><table id=\"T_29497172_a8f8_11eb_a0f6_f02f7488b7cf\" ><thead>    <tr>        <th class=\"col_heading level0 col0\" >Количество подобластей</th>        <th class=\"col_heading level0 col1\" >h=0.05</th>        <th class=\"col_heading level0 col2\" >h=0.025</th>        <th class=\"col_heading level0 col3\" >h=0.0125</th>    </tr></thead><tbody>\n",
       "                <tr>\n",
       "                                <td id=\"T_29497172_a8f8_11eb_a0f6_f02f7488b7cfrow0_col0\" class=\"data row0 col0\" >2 области</td>\n",
       "                        <td id=\"T_29497172_a8f8_11eb_a0f6_f02f7488b7cfrow0_col1\" class=\"data row0 col1\" >34</td>\n",
       "                        <td id=\"T_29497172_a8f8_11eb_a0f6_f02f7488b7cfrow0_col2\" class=\"data row0 col2\" >61</td>\n",
       "                        <td id=\"T_29497172_a8f8_11eb_a0f6_f02f7488b7cfrow0_col3\" class=\"data row0 col3\" >47</td>\n",
       "            </tr>\n",
       "            <tr>\n",
       "                                <td id=\"T_29497172_a8f8_11eb_a0f6_f02f7488b7cfrow1_col0\" class=\"data row1 col0\" >4 области</td>\n",
       "                        <td id=\"T_29497172_a8f8_11eb_a0f6_f02f7488b7cfrow1_col1\" class=\"data row1 col1\" >196</td>\n",
       "                        <td id=\"T_29497172_a8f8_11eb_a0f6_f02f7488b7cfrow1_col2\" class=\"data row1 col2\" >102</td>\n",
       "                        <td id=\"T_29497172_a8f8_11eb_a0f6_f02f7488b7cfrow1_col3\" class=\"data row1 col3\" >101</td>\n",
       "            </tr>\n",
       "            <tr>\n",
       "                                <td id=\"T_29497172_a8f8_11eb_a0f6_f02f7488b7cfrow2_col0\" class=\"data row2 col0\" >8 областей</td>\n",
       "                        <td id=\"T_29497172_a8f8_11eb_a0f6_f02f7488b7cfrow2_col1\" class=\"data row2 col1\" >374</td>\n",
       "                        <td id=\"T_29497172_a8f8_11eb_a0f6_f02f7488b7cfrow2_col2\" class=\"data row2 col2\" >352</td>\n",
       "                        <td id=\"T_29497172_a8f8_11eb_a0f6_f02f7488b7cfrow2_col3\" class=\"data row2 col3\" >338</td>\n",
       "            </tr>\n",
       "    </tbody></table>"
      ],
      "text/plain": [
       "<pandas.io.formats.style.Styler at 0x225120b0c70>"
      ]
     },
     "execution_count": 104,
     "metadata": {},
     "output_type": "execute_result"
    }
   ],
   "source": [
    "df_iters.style.hide_index()"
   ]
  },
  {
   "cell_type": "markdown",
   "metadata": {},
   "source": [
    "Ошибки численного решения (8 подобластей, шаг 0.025):"
   ]
  },
  {
   "cell_type": "code",
   "execution_count": 105,
   "metadata": {},
   "outputs": [
    {
     "data": {
      "text/html": [
       "<style  type=\"text/css\" >\n",
       "</style><table id=\"T_294be3d3_a8f8_11eb_96ec_f02f7488b7cf\" ><thead>    <tr>        <th class=\"col_heading level0 col0\" >eps_0</th>        <th class=\"col_heading level0 col1\" >Количество итераций</th>        <th class=\"col_heading level0 col2\" >Ошибка численного решения для sigma_r</th>        <th class=\"col_heading level0 col3\" >Ошибка численного решения для sigma_phi</th>    </tr></thead><tbody>\n",
       "                <tr>\n",
       "                                <td id=\"T_294be3d3_a8f8_11eb_96ec_f02f7488b7cfrow0_col0\" class=\"data row0 col0\" >1e-02</td>\n",
       "                        <td id=\"T_294be3d3_a8f8_11eb_96ec_f02f7488b7cfrow0_col1\" class=\"data row0 col1\" >51</td>\n",
       "                        <td id=\"T_294be3d3_a8f8_11eb_96ec_f02f7488b7cfrow0_col2\" class=\"data row0 col2\" >2.16e-02</td>\n",
       "                        <td id=\"T_294be3d3_a8f8_11eb_96ec_f02f7488b7cfrow0_col3\" class=\"data row0 col3\" >2.14e-01</td>\n",
       "            </tr>\n",
       "            <tr>\n",
       "                                <td id=\"T_294be3d3_a8f8_11eb_96ec_f02f7488b7cfrow1_col0\" class=\"data row1 col0\" >1e-03</td>\n",
       "                        <td id=\"T_294be3d3_a8f8_11eb_96ec_f02f7488b7cfrow1_col1\" class=\"data row1 col1\" >140</td>\n",
       "                        <td id=\"T_294be3d3_a8f8_11eb_96ec_f02f7488b7cfrow1_col2\" class=\"data row1 col2\" >1.36e-02</td>\n",
       "                        <td id=\"T_294be3d3_a8f8_11eb_96ec_f02f7488b7cfrow1_col3\" class=\"data row1 col3\" >3.09e-02</td>\n",
       "            </tr>\n",
       "            <tr>\n",
       "                                <td id=\"T_294be3d3_a8f8_11eb_96ec_f02f7488b7cfrow2_col0\" class=\"data row2 col0\" >1e-04</td>\n",
       "                        <td id=\"T_294be3d3_a8f8_11eb_96ec_f02f7488b7cfrow2_col1\" class=\"data row2 col1\" >243</td>\n",
       "                        <td id=\"T_294be3d3_a8f8_11eb_96ec_f02f7488b7cfrow2_col2\" class=\"data row2 col2\" >1.39e-02</td>\n",
       "                        <td id=\"T_294be3d3_a8f8_11eb_96ec_f02f7488b7cfrow2_col3\" class=\"data row2 col3\" >6.39e-03</td>\n",
       "            </tr>\n",
       "            <tr>\n",
       "                                <td id=\"T_294be3d3_a8f8_11eb_96ec_f02f7488b7cfrow3_col0\" class=\"data row3 col0\" >1e-05</td>\n",
       "                        <td id=\"T_294be3d3_a8f8_11eb_96ec_f02f7488b7cfrow3_col1\" class=\"data row3 col1\" >352</td>\n",
       "                        <td id=\"T_294be3d3_a8f8_11eb_96ec_f02f7488b7cfrow3_col2\" class=\"data row3 col2\" >1.39e-02</td>\n",
       "                        <td id=\"T_294be3d3_a8f8_11eb_96ec_f02f7488b7cfrow3_col3\" class=\"data row3 col3\" >5.51e-03</td>\n",
       "            </tr>\n",
       "            <tr>\n",
       "                                <td id=\"T_294be3d3_a8f8_11eb_96ec_f02f7488b7cfrow4_col0\" class=\"data row4 col0\" >1e-06</td>\n",
       "                        <td id=\"T_294be3d3_a8f8_11eb_96ec_f02f7488b7cfrow4_col1\" class=\"data row4 col1\" >975</td>\n",
       "                        <td id=\"T_294be3d3_a8f8_11eb_96ec_f02f7488b7cfrow4_col2\" class=\"data row4 col2\" >1.39e-02</td>\n",
       "                        <td id=\"T_294be3d3_a8f8_11eb_96ec_f02f7488b7cfrow4_col3\" class=\"data row4 col3\" >5.48e-03</td>\n",
       "            </tr>\n",
       "    </tbody></table>"
      ],
      "text/plain": [
       "<pandas.io.formats.style.Styler at 0x225120b70a0>"
      ]
     },
     "execution_count": 105,
     "metadata": {},
     "output_type": "execute_result"
    }
   ],
   "source": [
    "df_error_special.style.hide_index()"
   ]
  },
  {
   "cell_type": "markdown",
   "metadata": {},
   "source": [
    "# Двухуровневый аддитивный метод Шварца:"
   ]
  },
  {
   "cell_type": "code",
   "execution_count": 106,
   "metadata": {},
   "outputs": [],
   "source": [
    "method = 'schwarz_additive_two_level'\n",
    "task = 'pressure_only'\n",
    "\n",
    "df_errors = pd.read_csv(f'..//results/thick_walled_cylinder/{task}/errors/{method}.csv', dtype = object)\n",
    "df_errors_rel = pd.read_csv(f'..//results/thick_walled_cylinder/{task}/errors_rel/{method}.csv', dtype = object)\n",
    "df_iters = pd.read_csv(f'..//results/thick_walled_cylinder/{task}/iterations/{method}.csv', dtype = object)\n",
    "df_error_special = pd.read_csv(f'..//results/thick_walled_cylinder/{task}/errors_special/{method}.csv', dtype = object)"
   ]
  },
  {
   "cell_type": "markdown",
   "metadata": {},
   "source": [
    "Таблица ошибок численного решения:"
   ]
  },
  {
   "cell_type": "code",
   "execution_count": 107,
   "metadata": {},
   "outputs": [
    {
     "data": {
      "text/html": [
       "<style  type=\"text/css\" >\n",
       "</style><table id=\"T_2950afdc_a8f8_11eb_a81a_f02f7488b7cf\" ><thead>    <tr>        <th class=\"col_heading level0 col0\" >Шаг сетки h</th>        <th class=\"col_heading level0 col1\" >u_r</th>        <th class=\"col_heading level0 col2\" >sigma_r</th>        <th class=\"col_heading level0 col3\" >sigma_phi</th>    </tr></thead><tbody>\n",
       "                <tr>\n",
       "                                <td id=\"T_2950afdc_a8f8_11eb_a81a_f02f7488b7cfrow0_col0\" class=\"data row0 col0\" >0.05</td>\n",
       "                        <td id=\"T_2950afdc_a8f8_11eb_a81a_f02f7488b7cfrow0_col1\" class=\"data row0 col1\" >1.47e-04</td>\n",
       "                        <td id=\"T_2950afdc_a8f8_11eb_a81a_f02f7488b7cfrow0_col2\" class=\"data row0 col2\" >2.87e-02</td>\n",
       "                        <td id=\"T_2950afdc_a8f8_11eb_a81a_f02f7488b7cfrow0_col3\" class=\"data row0 col3\" >1.11e-02</td>\n",
       "            </tr>\n",
       "            <tr>\n",
       "                                <td id=\"T_2950afdc_a8f8_11eb_a81a_f02f7488b7cfrow1_col0\" class=\"data row1 col0\" >0.025</td>\n",
       "                        <td id=\"T_2950afdc_a8f8_11eb_a81a_f02f7488b7cfrow1_col1\" class=\"data row1 col1\" >3.58e-05</td>\n",
       "                        <td id=\"T_2950afdc_a8f8_11eb_a81a_f02f7488b7cfrow1_col2\" class=\"data row1 col2\" >1.39e-02</td>\n",
       "                        <td id=\"T_2950afdc_a8f8_11eb_a81a_f02f7488b7cfrow1_col3\" class=\"data row1 col3\" >5.48e-03</td>\n",
       "            </tr>\n",
       "            <tr>\n",
       "                                <td id=\"T_2950afdc_a8f8_11eb_a81a_f02f7488b7cfrow2_col0\" class=\"data row2 col0\" >0.0125</td>\n",
       "                        <td id=\"T_2950afdc_a8f8_11eb_a81a_f02f7488b7cfrow2_col1\" class=\"data row2 col1\" >1.04e-05</td>\n",
       "                        <td id=\"T_2950afdc_a8f8_11eb_a81a_f02f7488b7cfrow2_col2\" class=\"data row2 col2\" >6.65e-03</td>\n",
       "                        <td id=\"T_2950afdc_a8f8_11eb_a81a_f02f7488b7cfrow2_col3\" class=\"data row2 col3\" >2.67e-03</td>\n",
       "            </tr>\n",
       "    </tbody></table>"
      ],
      "text/plain": [
       "<pandas.io.formats.style.Styler at 0x225120b73a0>"
      ]
     },
     "execution_count": 107,
     "metadata": {},
     "output_type": "execute_result"
    }
   ],
   "source": [
    "df_errors.style.hide_index()"
   ]
  },
  {
   "cell_type": "markdown",
   "metadata": {},
   "source": [
    "Таблица отношений ошибок численных решений:"
   ]
  },
  {
   "cell_type": "code",
   "execution_count": 108,
   "metadata": {},
   "outputs": [
    {
     "data": {
      "text/html": [
       "<style  type=\"text/css\" >\n",
       "</style><table id=\"T_2953064f_a8f8_11eb_884a_f02f7488b7cf\" ><thead>    <tr>        <th class=\"col_heading level0 col0\" >Шаг сетки h</th>        <th class=\"col_heading level0 col1\" >u_r</th>        <th class=\"col_heading level0 col2\" >sigma_r</th>        <th class=\"col_heading level0 col3\" >sigma_phi</th>    </tr></thead><tbody>\n",
       "                <tr>\n",
       "                                <td id=\"T_2953064f_a8f8_11eb_884a_f02f7488b7cfrow0_col0\" class=\"data row0 col0\" >0.05</td>\n",
       "                        <td id=\"T_2953064f_a8f8_11eb_884a_f02f7488b7cfrow0_col1\" class=\"data row0 col1\" >1</td>\n",
       "                        <td id=\"T_2953064f_a8f8_11eb_884a_f02f7488b7cfrow0_col2\" class=\"data row0 col2\" >1</td>\n",
       "                        <td id=\"T_2953064f_a8f8_11eb_884a_f02f7488b7cfrow0_col3\" class=\"data row0 col3\" >1</td>\n",
       "            </tr>\n",
       "            <tr>\n",
       "                                <td id=\"T_2953064f_a8f8_11eb_884a_f02f7488b7cfrow1_col0\" class=\"data row1 col0\" >0.025</td>\n",
       "                        <td id=\"T_2953064f_a8f8_11eb_884a_f02f7488b7cfrow1_col1\" class=\"data row1 col1\" >4</td>\n",
       "                        <td id=\"T_2953064f_a8f8_11eb_884a_f02f7488b7cfrow1_col2\" class=\"data row1 col2\" >2</td>\n",
       "                        <td id=\"T_2953064f_a8f8_11eb_884a_f02f7488b7cfrow1_col3\" class=\"data row1 col3\" >2</td>\n",
       "            </tr>\n",
       "            <tr>\n",
       "                                <td id=\"T_2953064f_a8f8_11eb_884a_f02f7488b7cfrow2_col0\" class=\"data row2 col0\" >0.0125</td>\n",
       "                        <td id=\"T_2953064f_a8f8_11eb_884a_f02f7488b7cfrow2_col1\" class=\"data row2 col1\" >14</td>\n",
       "                        <td id=\"T_2953064f_a8f8_11eb_884a_f02f7488b7cfrow2_col2\" class=\"data row2 col2\" >4</td>\n",
       "                        <td id=\"T_2953064f_a8f8_11eb_884a_f02f7488b7cfrow2_col3\" class=\"data row2 col3\" >4</td>\n",
       "            </tr>\n",
       "    </tbody></table>"
      ],
      "text/plain": [
       "<pandas.io.formats.style.Styler at 0x225120b7c10>"
      ]
     },
     "execution_count": 108,
     "metadata": {},
     "output_type": "execute_result"
    }
   ],
   "source": [
    "df_errors_rel.style.hide_index()"
   ]
  },
  {
   "cell_type": "markdown",
   "metadata": {},
   "source": [
    "Таблица количества итераций в зависимости от количества подобластей и шага сетки (относительное перекрытие 0.35):"
   ]
  },
  {
   "cell_type": "code",
   "execution_count": 109,
   "metadata": {},
   "outputs": [
    {
     "data": {
      "text/html": [
       "<style  type=\"text/css\" >\n",
       "</style><table id=\"T_29557af8_a8f8_11eb_aa92_f02f7488b7cf\" ><thead>    <tr>        <th class=\"col_heading level0 col0\" >Количество подобластей</th>        <th class=\"col_heading level0 col1\" >h=0.05</th>        <th class=\"col_heading level0 col2\" >h=0.025</th>        <th class=\"col_heading level0 col3\" >h=0.0125</th>    </tr></thead><tbody>\n",
       "                <tr>\n",
       "                                <td id=\"T_29557af8_a8f8_11eb_aa92_f02f7488b7cfrow0_col0\" class=\"data row0 col0\" >2 области</td>\n",
       "                        <td id=\"T_29557af8_a8f8_11eb_aa92_f02f7488b7cfrow0_col1\" class=\"data row0 col1\" >40</td>\n",
       "                        <td id=\"T_29557af8_a8f8_11eb_aa92_f02f7488b7cfrow0_col2\" class=\"data row0 col2\" >40</td>\n",
       "                        <td id=\"T_29557af8_a8f8_11eb_aa92_f02f7488b7cfrow0_col3\" class=\"data row0 col3\" >40</td>\n",
       "            </tr>\n",
       "            <tr>\n",
       "                                <td id=\"T_29557af8_a8f8_11eb_aa92_f02f7488b7cfrow1_col0\" class=\"data row1 col0\" >4 области</td>\n",
       "                        <td id=\"T_29557af8_a8f8_11eb_aa92_f02f7488b7cfrow1_col1\" class=\"data row1 col1\" >62</td>\n",
       "                        <td id=\"T_29557af8_a8f8_11eb_aa92_f02f7488b7cfrow1_col2\" class=\"data row1 col2\" >62</td>\n",
       "                        <td id=\"T_29557af8_a8f8_11eb_aa92_f02f7488b7cfrow1_col3\" class=\"data row1 col3\" >62</td>\n",
       "            </tr>\n",
       "            <tr>\n",
       "                                <td id=\"T_29557af8_a8f8_11eb_aa92_f02f7488b7cfrow2_col0\" class=\"data row2 col0\" >8 областей</td>\n",
       "                        <td id=\"T_29557af8_a8f8_11eb_aa92_f02f7488b7cfrow2_col1\" class=\"data row2 col1\" >92</td>\n",
       "                        <td id=\"T_29557af8_a8f8_11eb_aa92_f02f7488b7cfrow2_col2\" class=\"data row2 col2\" >92</td>\n",
       "                        <td id=\"T_29557af8_a8f8_11eb_aa92_f02f7488b7cfrow2_col3\" class=\"data row2 col3\" >91</td>\n",
       "            </tr>\n",
       "    </tbody></table>"
      ],
      "text/plain": [
       "<pandas.io.formats.style.Styler at 0x225120ba250>"
      ]
     },
     "execution_count": 109,
     "metadata": {},
     "output_type": "execute_result"
    }
   ],
   "source": [
    "df_iters.style.hide_index()"
   ]
  },
  {
   "cell_type": "markdown",
   "metadata": {},
   "source": [
    "Ошибки численного решения (8 подобластей, шаг 0.025):"
   ]
  },
  {
   "cell_type": "code",
   "execution_count": 110,
   "metadata": {},
   "outputs": [
    {
     "data": {
      "text/html": [
       "<style  type=\"text/css\" >\n",
       "</style><table id=\"T_2957c486_a8f8_11eb_a756_f02f7488b7cf\" ><thead>    <tr>        <th class=\"col_heading level0 col0\" >eps_0</th>        <th class=\"col_heading level0 col1\" >Количество итераций</th>        <th class=\"col_heading level0 col2\" >Ошибка численного решения для sigma_r</th>        <th class=\"col_heading level0 col3\" >Ошибка численного решения для sigma_phi</th>    </tr></thead><tbody>\n",
       "                <tr>\n",
       "                                <td id=\"T_2957c486_a8f8_11eb_a756_f02f7488b7cfrow0_col0\" class=\"data row0 col0\" >1e-02</td>\n",
       "                        <td id=\"T_2957c486_a8f8_11eb_a756_f02f7488b7cfrow0_col1\" class=\"data row0 col1\" >11</td>\n",
       "                        <td id=\"T_2957c486_a8f8_11eb_a756_f02f7488b7cfrow0_col2\" class=\"data row0 col2\" >2.77e-02</td>\n",
       "                        <td id=\"T_2957c486_a8f8_11eb_a756_f02f7488b7cfrow0_col3\" class=\"data row0 col3\" >4.21e-02</td>\n",
       "            </tr>\n",
       "            <tr>\n",
       "                                <td id=\"T_2957c486_a8f8_11eb_a756_f02f7488b7cfrow1_col0\" class=\"data row1 col0\" >1e-03</td>\n",
       "                        <td id=\"T_2957c486_a8f8_11eb_a756_f02f7488b7cfrow1_col1\" class=\"data row1 col1\" >32</td>\n",
       "                        <td id=\"T_2957c486_a8f8_11eb_a756_f02f7488b7cfrow1_col2\" class=\"data row1 col2\" >1.40e-02</td>\n",
       "                        <td id=\"T_2957c486_a8f8_11eb_a756_f02f7488b7cfrow1_col3\" class=\"data row1 col3\" >7.07e-03</td>\n",
       "            </tr>\n",
       "            <tr>\n",
       "                                <td id=\"T_2957c486_a8f8_11eb_a756_f02f7488b7cfrow2_col0\" class=\"data row2 col0\" >1e-04</td>\n",
       "                        <td id=\"T_2957c486_a8f8_11eb_a756_f02f7488b7cfrow2_col1\" class=\"data row2 col1\" >61</td>\n",
       "                        <td id=\"T_2957c486_a8f8_11eb_a756_f02f7488b7cfrow2_col2\" class=\"data row2 col2\" >1.39e-02</td>\n",
       "                        <td id=\"T_2957c486_a8f8_11eb_a756_f02f7488b7cfrow2_col3\" class=\"data row2 col3\" >5.50e-03</td>\n",
       "            </tr>\n",
       "            <tr>\n",
       "                                <td id=\"T_2957c486_a8f8_11eb_a756_f02f7488b7cfrow3_col0\" class=\"data row3 col0\" >1e-05</td>\n",
       "                        <td id=\"T_2957c486_a8f8_11eb_a756_f02f7488b7cfrow3_col1\" class=\"data row3 col1\" >92</td>\n",
       "                        <td id=\"T_2957c486_a8f8_11eb_a756_f02f7488b7cfrow3_col2\" class=\"data row3 col2\" >1.39e-02</td>\n",
       "                        <td id=\"T_2957c486_a8f8_11eb_a756_f02f7488b7cfrow3_col3\" class=\"data row3 col3\" >5.48e-03</td>\n",
       "            </tr>\n",
       "            <tr>\n",
       "                                <td id=\"T_2957c486_a8f8_11eb_a756_f02f7488b7cfrow4_col0\" class=\"data row4 col0\" >1e-06</td>\n",
       "                        <td id=\"T_2957c486_a8f8_11eb_a756_f02f7488b7cfrow4_col1\" class=\"data row4 col1\" >124</td>\n",
       "                        <td id=\"T_2957c486_a8f8_11eb_a756_f02f7488b7cfrow4_col2\" class=\"data row4 col2\" >1.39e-02</td>\n",
       "                        <td id=\"T_2957c486_a8f8_11eb_a756_f02f7488b7cfrow4_col3\" class=\"data row4 col3\" >5.48e-03</td>\n",
       "            </tr>\n",
       "    </tbody></table>"
      ],
      "text/plain": [
       "<pandas.io.formats.style.Styler at 0x225120ba700>"
      ]
     },
     "execution_count": 110,
     "metadata": {},
     "output_type": "execute_result"
    }
   ],
   "source": [
    "df_error_special.style.hide_index()"
   ]
  },
  {
   "cell_type": "markdown",
   "metadata": {},
   "source": [
    "# Двухуровневый аддитивный метод Шварца для более упрощенной грубой сетки:"
   ]
  },
  {
   "cell_type": "code",
   "execution_count": 111,
   "metadata": {},
   "outputs": [],
   "source": [
    "method = 'schwarz_additive_two_level_simplified'\n",
    "task = 'pressure_only'\n",
    "\n",
    "df_errors = pd.read_csv(f'..//results/thick_walled_cylinder/{task}/errors/{method}.csv', dtype = object)\n",
    "df_errors_rel = pd.read_csv(f'..//results/thick_walled_cylinder/{task}/errors_rel/{method}.csv', dtype = object)\n",
    "df_iters = pd.read_csv(f'..//results/thick_walled_cylinder/{task}/iterations/{method}.csv', dtype = object)\n",
    "df_error_special = pd.read_csv(f'..//results/thick_walled_cylinder/{task}/errors_special/{method}.csv', dtype = object)"
   ]
  },
  {
   "cell_type": "markdown",
   "metadata": {},
   "source": [
    "Таблица ошибок численного решения:"
   ]
  },
  {
   "cell_type": "code",
   "execution_count": 112,
   "metadata": {},
   "outputs": [
    {
     "data": {
      "text/html": [
       "<style  type=\"text/css\" >\n",
       "</style><table id=\"T_295c54df_a8f8_11eb_8fe3_f02f7488b7cf\" ><thead>    <tr>        <th class=\"col_heading level0 col0\" >Шаг сетки h</th>        <th class=\"col_heading level0 col1\" >u_r</th>        <th class=\"col_heading level0 col2\" >sigma_r</th>        <th class=\"col_heading level0 col3\" >sigma_phi</th>    </tr></thead><tbody>\n",
       "                <tr>\n",
       "                                <td id=\"T_295c54df_a8f8_11eb_8fe3_f02f7488b7cfrow0_col0\" class=\"data row0 col0\" >0.05</td>\n",
       "                        <td id=\"T_295c54df_a8f8_11eb_8fe3_f02f7488b7cfrow0_col1\" class=\"data row0 col1\" >1.46e-04</td>\n",
       "                        <td id=\"T_295c54df_a8f8_11eb_8fe3_f02f7488b7cfrow0_col2\" class=\"data row0 col2\" >2.87e-02</td>\n",
       "                        <td id=\"T_295c54df_a8f8_11eb_8fe3_f02f7488b7cfrow0_col3\" class=\"data row0 col3\" >1.11e-02</td>\n",
       "            </tr>\n",
       "            <tr>\n",
       "                                <td id=\"T_295c54df_a8f8_11eb_8fe3_f02f7488b7cfrow1_col0\" class=\"data row1 col0\" >0.025</td>\n",
       "                        <td id=\"T_295c54df_a8f8_11eb_8fe3_f02f7488b7cfrow1_col1\" class=\"data row1 col1\" >3.58e-05</td>\n",
       "                        <td id=\"T_295c54df_a8f8_11eb_8fe3_f02f7488b7cfrow1_col2\" class=\"data row1 col2\" >1.39e-02</td>\n",
       "                        <td id=\"T_295c54df_a8f8_11eb_8fe3_f02f7488b7cfrow1_col3\" class=\"data row1 col3\" >5.48e-03</td>\n",
       "            </tr>\n",
       "            <tr>\n",
       "                                <td id=\"T_295c54df_a8f8_11eb_8fe3_f02f7488b7cfrow2_col0\" class=\"data row2 col0\" >0.0125</td>\n",
       "                        <td id=\"T_295c54df_a8f8_11eb_8fe3_f02f7488b7cfrow2_col1\" class=\"data row2 col1\" >1.06e-05</td>\n",
       "                        <td id=\"T_295c54df_a8f8_11eb_8fe3_f02f7488b7cfrow2_col2\" class=\"data row2 col2\" >6.65e-03</td>\n",
       "                        <td id=\"T_295c54df_a8f8_11eb_8fe3_f02f7488b7cfrow2_col3\" class=\"data row2 col3\" >2.67e-03</td>\n",
       "            </tr>\n",
       "    </tbody></table>"
      ],
      "text/plain": [
       "<pandas.io.formats.style.Styler at 0x225120c52b0>"
      ]
     },
     "execution_count": 112,
     "metadata": {},
     "output_type": "execute_result"
    }
   ],
   "source": [
    "df_errors.style.hide_index()"
   ]
  },
  {
   "cell_type": "markdown",
   "metadata": {},
   "source": [
    "Таблица отношений ошибок численных решений:"
   ]
  },
  {
   "cell_type": "code",
   "execution_count": 113,
   "metadata": {},
   "outputs": [
    {
     "data": {
      "text/html": [
       "<style  type=\"text/css\" >\n",
       "</style><table id=\"T_295ede5c_a8f8_11eb_a08a_f02f7488b7cf\" ><thead>    <tr>        <th class=\"col_heading level0 col0\" >Шаг сетки h</th>        <th class=\"col_heading level0 col1\" >u_r</th>        <th class=\"col_heading level0 col2\" >sigma_r</th>        <th class=\"col_heading level0 col3\" >sigma_phi</th>    </tr></thead><tbody>\n",
       "                <tr>\n",
       "                                <td id=\"T_295ede5c_a8f8_11eb_a08a_f02f7488b7cfrow0_col0\" class=\"data row0 col0\" >0.05</td>\n",
       "                        <td id=\"T_295ede5c_a8f8_11eb_a08a_f02f7488b7cfrow0_col1\" class=\"data row0 col1\" >1</td>\n",
       "                        <td id=\"T_295ede5c_a8f8_11eb_a08a_f02f7488b7cfrow0_col2\" class=\"data row0 col2\" >1</td>\n",
       "                        <td id=\"T_295ede5c_a8f8_11eb_a08a_f02f7488b7cfrow0_col3\" class=\"data row0 col3\" >1</td>\n",
       "            </tr>\n",
       "            <tr>\n",
       "                                <td id=\"T_295ede5c_a8f8_11eb_a08a_f02f7488b7cfrow1_col0\" class=\"data row1 col0\" >0.025</td>\n",
       "                        <td id=\"T_295ede5c_a8f8_11eb_a08a_f02f7488b7cfrow1_col1\" class=\"data row1 col1\" >4</td>\n",
       "                        <td id=\"T_295ede5c_a8f8_11eb_a08a_f02f7488b7cfrow1_col2\" class=\"data row1 col2\" >2</td>\n",
       "                        <td id=\"T_295ede5c_a8f8_11eb_a08a_f02f7488b7cfrow1_col3\" class=\"data row1 col3\" >2</td>\n",
       "            </tr>\n",
       "            <tr>\n",
       "                                <td id=\"T_295ede5c_a8f8_11eb_a08a_f02f7488b7cfrow2_col0\" class=\"data row2 col0\" >0.0125</td>\n",
       "                        <td id=\"T_295ede5c_a8f8_11eb_a08a_f02f7488b7cfrow2_col1\" class=\"data row2 col1\" >14</td>\n",
       "                        <td id=\"T_295ede5c_a8f8_11eb_a08a_f02f7488b7cfrow2_col2\" class=\"data row2 col2\" >4</td>\n",
       "                        <td id=\"T_295ede5c_a8f8_11eb_a08a_f02f7488b7cfrow2_col3\" class=\"data row2 col3\" >4</td>\n",
       "            </tr>\n",
       "    </tbody></table>"
      ],
      "text/plain": [
       "<pandas.io.formats.style.Styler at 0x225120c5490>"
      ]
     },
     "execution_count": 113,
     "metadata": {},
     "output_type": "execute_result"
    }
   ],
   "source": [
    "df_errors_rel.style.hide_index()"
   ]
  },
  {
   "cell_type": "markdown",
   "metadata": {},
   "source": [
    "Таблица количества итераций в зависимости от количества подобластей и шага сетки (относительное перекрытие 0.35):"
   ]
  },
  {
   "cell_type": "code",
   "execution_count": 114,
   "metadata": {},
   "outputs": [
    {
     "data": {
      "text/html": [
       "<style  type=\"text/css\" >\n",
       "</style><table id=\"T_29615ce5_a8f8_11eb_867f_f02f7488b7cf\" ><thead>    <tr>        <th class=\"col_heading level0 col0\" >Количество подобластей</th>        <th class=\"col_heading level0 col1\" >h=0.05</th>        <th class=\"col_heading level0 col2\" >h=0.025</th>        <th class=\"col_heading level0 col3\" >h=0.0125</th>    </tr></thead><tbody>\n",
       "                <tr>\n",
       "                                <td id=\"T_29615ce5_a8f8_11eb_867f_f02f7488b7cfrow0_col0\" class=\"data row0 col0\" >2 области</td>\n",
       "                        <td id=\"T_29615ce5_a8f8_11eb_867f_f02f7488b7cfrow0_col1\" class=\"data row0 col1\" >26</td>\n",
       "                        <td id=\"T_29615ce5_a8f8_11eb_867f_f02f7488b7cfrow0_col2\" class=\"data row0 col2\" >24</td>\n",
       "                        <td id=\"T_29615ce5_a8f8_11eb_867f_f02f7488b7cfrow0_col3\" class=\"data row0 col3\" >23</td>\n",
       "            </tr>\n",
       "            <tr>\n",
       "                                <td id=\"T_29615ce5_a8f8_11eb_867f_f02f7488b7cfrow1_col0\" class=\"data row1 col0\" >4 области</td>\n",
       "                        <td id=\"T_29615ce5_a8f8_11eb_867f_f02f7488b7cfrow1_col1\" class=\"data row1 col1\" >38</td>\n",
       "                        <td id=\"T_29615ce5_a8f8_11eb_867f_f02f7488b7cfrow1_col2\" class=\"data row1 col2\" >38</td>\n",
       "                        <td id=\"T_29615ce5_a8f8_11eb_867f_f02f7488b7cfrow1_col3\" class=\"data row1 col3\" >38</td>\n",
       "            </tr>\n",
       "            <tr>\n",
       "                                <td id=\"T_29615ce5_a8f8_11eb_867f_f02f7488b7cfrow2_col0\" class=\"data row2 col0\" >8 областей</td>\n",
       "                        <td id=\"T_29615ce5_a8f8_11eb_867f_f02f7488b7cfrow2_col1\" class=\"data row2 col1\" >60</td>\n",
       "                        <td id=\"T_29615ce5_a8f8_11eb_867f_f02f7488b7cfrow2_col2\" class=\"data row2 col2\" >59</td>\n",
       "                        <td id=\"T_29615ce5_a8f8_11eb_867f_f02f7488b7cfrow2_col3\" class=\"data row2 col3\" >57</td>\n",
       "            </tr>\n",
       "    </tbody></table>"
      ],
      "text/plain": [
       "<pandas.io.formats.style.Styler at 0x225120b0d30>"
      ]
     },
     "execution_count": 114,
     "metadata": {},
     "output_type": "execute_result"
    }
   ],
   "source": [
    "df_iters.style.hide_index()"
   ]
  },
  {
   "cell_type": "markdown",
   "metadata": {},
   "source": [
    "Ошибки численного решения (8 подобластей, шаг 0.025):"
   ]
  },
  {
   "cell_type": "code",
   "execution_count": 115,
   "metadata": {},
   "outputs": [
    {
     "data": {
      "text/html": [
       "<style  type=\"text/css\" >\n",
       "</style><table id=\"T_2963a7a2_a8f8_11eb_868f_f02f7488b7cf\" ><thead>    <tr>        <th class=\"col_heading level0 col0\" >eps_0</th>        <th class=\"col_heading level0 col1\" >Количество итераций</th>        <th class=\"col_heading level0 col2\" >Ошибка численного решения для sigma_r</th>        <th class=\"col_heading level0 col3\" >Ошибка численного решения для sigma_phi</th>    </tr></thead><tbody>\n",
       "                <tr>\n",
       "                                <td id=\"T_2963a7a2_a8f8_11eb_868f_f02f7488b7cfrow0_col0\" class=\"data row0 col0\" >1e-02</td>\n",
       "                        <td id=\"T_2963a7a2_a8f8_11eb_868f_f02f7488b7cfrow0_col1\" class=\"data row0 col1\" >14</td>\n",
       "                        <td id=\"T_2963a7a2_a8f8_11eb_868f_f02f7488b7cfrow0_col2\" class=\"data row0 col2\" >2.21e-02</td>\n",
       "                        <td id=\"T_2963a7a2_a8f8_11eb_868f_f02f7488b7cfrow0_col3\" class=\"data row0 col3\" >2.92e-02</td>\n",
       "            </tr>\n",
       "            <tr>\n",
       "                                <td id=\"T_2963a7a2_a8f8_11eb_868f_f02f7488b7cfrow1_col0\" class=\"data row1 col0\" >1e-03</td>\n",
       "                        <td id=\"T_2963a7a2_a8f8_11eb_868f_f02f7488b7cfrow1_col1\" class=\"data row1 col1\" >25</td>\n",
       "                        <td id=\"T_2963a7a2_a8f8_11eb_868f_f02f7488b7cfrow1_col2\" class=\"data row1 col2\" >1.41e-02</td>\n",
       "                        <td id=\"T_2963a7a2_a8f8_11eb_868f_f02f7488b7cfrow1_col3\" class=\"data row1 col3\" >7.17e-03</td>\n",
       "            </tr>\n",
       "            <tr>\n",
       "                                <td id=\"T_2963a7a2_a8f8_11eb_868f_f02f7488b7cfrow2_col0\" class=\"data row2 col0\" >1e-04</td>\n",
       "                        <td id=\"T_2963a7a2_a8f8_11eb_868f_f02f7488b7cfrow2_col1\" class=\"data row2 col1\" >38</td>\n",
       "                        <td id=\"T_2963a7a2_a8f8_11eb_868f_f02f7488b7cfrow2_col2\" class=\"data row2 col2\" >1.39e-02</td>\n",
       "                        <td id=\"T_2963a7a2_a8f8_11eb_868f_f02f7488b7cfrow2_col3\" class=\"data row2 col3\" >5.56e-03</td>\n",
       "            </tr>\n",
       "            <tr>\n",
       "                                <td id=\"T_2963a7a2_a8f8_11eb_868f_f02f7488b7cfrow3_col0\" class=\"data row3 col0\" >1e-05</td>\n",
       "                        <td id=\"T_2963a7a2_a8f8_11eb_868f_f02f7488b7cfrow3_col1\" class=\"data row3 col1\" >59</td>\n",
       "                        <td id=\"T_2963a7a2_a8f8_11eb_868f_f02f7488b7cfrow3_col2\" class=\"data row3 col2\" >1.39e-02</td>\n",
       "                        <td id=\"T_2963a7a2_a8f8_11eb_868f_f02f7488b7cfrow3_col3\" class=\"data row3 col3\" >5.48e-03</td>\n",
       "            </tr>\n",
       "            <tr>\n",
       "                                <td id=\"T_2963a7a2_a8f8_11eb_868f_f02f7488b7cfrow4_col0\" class=\"data row4 col0\" >1e-06</td>\n",
       "                        <td id=\"T_2963a7a2_a8f8_11eb_868f_f02f7488b7cfrow4_col1\" class=\"data row4 col1\" >88</td>\n",
       "                        <td id=\"T_2963a7a2_a8f8_11eb_868f_f02f7488b7cfrow4_col2\" class=\"data row4 col2\" >1.39e-02</td>\n",
       "                        <td id=\"T_2963a7a2_a8f8_11eb_868f_f02f7488b7cfrow4_col3\" class=\"data row4 col3\" >5.48e-03</td>\n",
       "            </tr>\n",
       "    </tbody></table>"
      ],
      "text/plain": [
       "<pandas.io.formats.style.Styler at 0x225120b0190>"
      ]
     },
     "execution_count": 115,
     "metadata": {},
     "output_type": "execute_result"
    }
   ],
   "source": [
    "df_error_special.style.hide_index()"
   ]
  }
 ],
 "metadata": {
  "kernelspec": {
   "display_name": "Python 3",
   "language": "python",
   "name": "python3"
  },
  "language_info": {
   "codemirror_mode": {
    "name": "ipython",
    "version": 3
   },
   "file_extension": ".py",
   "mimetype": "text/x-python",
   "name": "python",
   "nbconvert_exporter": "python",
   "pygments_lexer": "ipython3",
   "version": "3.8.5"
  },
  "latex_envs": {
   "LaTeX_envs_menu_present": true,
   "autoclose": false,
   "autocomplete": true,
   "bibliofile": "biblio.bib",
   "cite_by": "apalike",
   "current_citInitial": 1,
   "eqLabelWithNumbers": true,
   "eqNumInitial": 1,
   "hotkeys": {
    "equation": "Ctrl-E",
    "itemize": "Ctrl-I"
   },
   "labels_anchors": false,
   "latex_user_defs": false,
   "report_style_numbering": false,
   "user_envs_cfg": false
  },
  "toc": {
   "base_numbering": 1,
   "nav_menu": {
    "height": "487px",
    "width": "400px"
   },
   "number_sections": true,
   "sideBar": true,
   "skip_h1_title": false,
   "title_cell": "Table of Contents",
   "title_sidebar": "Contents",
   "toc_cell": false,
   "toc_position": {},
   "toc_section_display": true,
   "toc_window_display": false
  }
 },
 "nbformat": 4,
 "nbformat_minor": 4
}
