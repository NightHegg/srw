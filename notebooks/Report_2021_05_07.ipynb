{
 "cells": [
  {
   "cell_type": "markdown",
   "metadata": {},
   "source": [
    "Для двухуровневого аддитивного метода были рассмотрены два типа грубой сетки:\n",
    "- простая грубая сетка для четверти толстостенной трубы;\n",
    "<div>\n",
    "    <img src=\"img/coarse_area.png\" width=\"300\"/>\n",
    "</div>\n",
    "- грубая сетка для упрощенной четверти толстостенной трубы;\n",
    "<div>\n",
    "    <img src=\"img/coarse_area_simplified.png\" width=\"300\"/>\n",
    "</div>"
   ]
  },
  {
   "cell_type": "markdown",
   "metadata": {},
   "source": []
  },
  {
   "cell_type": "markdown",
   "metadata": {},
   "source": [
    "Были рассмотрены три сетки: \n",
    "- h = 0.05 (1109 точек);\n",
    "- h = 0.025 (4390 точек);\n",
    "- h = 0.0125 (17470 точек);\n",
    "Критерий сходимости $\\varepsilon = 10^{-5}$."
   ]
  },
  {
   "cell_type": "code",
   "execution_count": 92,
   "metadata": {},
   "outputs": [],
   "source": [
    "import pandas as pd"
   ]
  },
  {
   "cell_type": "markdown",
   "metadata": {},
   "source": [
    "Таблицы для двухуровневого аддитивного метода Шварца для относительного перекрытия 0.15:\n",
    "<div>\n",
    "    <img src=\"img/15.png\" width=\"300\"/>\n",
    "</div>\n",
    "\n",
    "Таблицы для двухуровневого аддитивного метода Шварца для относительного перекрытия 0.2:\n",
    "<div>\n",
    "    <img src=\"img/20.png\" width=\"300\"/>\n",
    "</div>\n",
    "\n",
    "Таблицы для двухуровневого аддитивного метода Шварца для относительного перекрытия 0.25:\n",
    "<div>\n",
    "    <img src=\"img/25.png\" width=\"300\"/>\n",
    "</div>\n",
    "\n",
    "Таблицы для двухуровневого аддитивного метода Шварца для относительного перекрытия 0.3:\n",
    "<div>\n",
    "    <img src=\"img/30.png\" width=\"300\"/>\n",
    "</div>\n",
    "\n",
    "Таблицы для двухуровневого аддитивного метода Шварца для относительного перекрытия 0.35:\n",
    "<div>\n",
    "    <img src=\"img/35.png\" width=\"300\"/>\n",
    "</div>"
   ]
  },
  {
   "cell_type": "markdown",
   "metadata": {},
   "source": [
    "---------------------\n",
    "Таблица для двухуровневого аддитивного метода Шварца для грубой сетки h=1 (8 узлов):\n",
    "<div>\n",
    "    <img src=\"img/dif_mesh/1.png\" width=\"300\"/>\n",
    "</div>\n",
    "\n",
    "Таблица для двухуровневого аддитивного метода Шварца для грубой сетки h=0.5 (16 узлов):\n",
    "<div>\n",
    "    <img src=\"img/dif_mesh/5e-1.png\" width=\"300\"/>\n",
    "</div>\n",
    "\n",
    "Таблица для двухуровневого аддитивного метода Шварца для грубой сетки h=0.1 (285 узлов):\n",
    "<div>\n",
    "    <img src=\"img/dif_mesh/1e-1.png\" width=\"300\"/>\n",
    "</div>"
   ]
  },
  {
   "cell_type": "markdown",
   "metadata": {},
   "source": [
    "Также работаю с подшипником, это исходная сетка:\n",
    "<div>\n",
    "    <img src=\"img/init_mesh.png\" width=\"500\"/>\n",
    "</div>\n",
    "\n",
    "Это результат при маленьком внешнем давлении (1 МПа):\n",
    "\n",
    "<div>\n",
    "    <img src=\"img/result.png\" width=\"500\"/>\n",
    "</div>\n",
    "\n",
    "Пока не знаю, в чём проблема"
   ]
  }
 ],
 "metadata": {
  "kernelspec": {
   "display_name": "Python 3",
   "language": "python",
   "name": "python3"
  },
  "language_info": {
   "codemirror_mode": {
    "name": "ipython",
    "version": 3
   },
   "file_extension": ".py",
   "mimetype": "text/x-python",
   "name": "python",
   "nbconvert_exporter": "python",
   "pygments_lexer": "ipython3",
   "version": "3.8.5"
  },
  "latex_envs": {
   "LaTeX_envs_menu_present": true,
   "autoclose": false,
   "autocomplete": true,
   "bibliofile": "biblio.bib",
   "cite_by": "apalike",
   "current_citInitial": 1,
   "eqLabelWithNumbers": true,
   "eqNumInitial": 1,
   "hotkeys": {
    "equation": "Ctrl-E",
    "itemize": "Ctrl-I"
   },
   "labels_anchors": false,
   "latex_user_defs": false,
   "report_style_numbering": false,
   "user_envs_cfg": false
  },
  "toc": {
   "base_numbering": 1,
   "nav_menu": {
    "height": "487px",
    "width": "400px"
   },
   "number_sections": true,
   "sideBar": true,
   "skip_h1_title": false,
   "title_cell": "Table of Contents",
   "title_sidebar": "Contents",
   "toc_cell": false,
   "toc_position": {},
   "toc_section_display": true,
   "toc_window_display": false
  }
 },
 "nbformat": 4,
 "nbformat_minor": 4
}
